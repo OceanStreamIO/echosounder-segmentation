{
 "cells": [
  {
   "cell_type": "code",
   "execution_count": 90,
   "id": "0ab1fc37-cae1-4a20-b14e-872e12b41f28",
   "metadata": {},
   "outputs": [],
   "source": [
    "import numpy as np\n",
    "import os\n",
    "import xarray as xr\n",
    "import pandas as pd\n",
    "import os"
   ]
  },
  {
   "cell_type": "code",
   "execution_count": 102,
   "id": "ee9b8104-9697-4030-9d38-c39cbce4db35",
   "metadata": {},
   "outputs": [],
   "source": [
    "output_dir = '/home/ubuntu/Sonar_data/Herring_training_data'\n",
    "input_dir = '/home/ubuntu/Sonar_data/Herring_xarray'\n",
    "# 38 kHz, but has to be checked each time\n",
    "channels = [0, 1, 2]\n",
    "\n",
    "image_dir = os.path.join(output_dir, 'images')\n",
    "masks_dir = os.path.join(output_dir, 'masks')"
   ]
  },
  {
   "cell_type": "code",
   "execution_count": 103,
   "id": "086b1b8e-db92-4a9f-b066-b29d221b4b76",
   "metadata": {},
   "outputs": [],
   "source": [
    "# normalize can be done with mean and std from the whole dataset or just from one array\n",
    "def zscore(data):\n",
    "    nanmin = np.nanmin(data)\n",
    "    #replace NaN values with min value-10\n",
    "    data = np.where(np.isnan(data), nanmin-10, data)\n",
    "    return (data - data.mean()) / data.std()\n",
    "\n",
    "def min_max(data):\n",
    "    nanmin = np.nanmin(data)\n",
    "    #replace NaN values with min value-10\n",
    "    data = np.where(np.isnan(data), nanmin-10, data)\n",
    "    \n",
    "    data_min = data.min()\n",
    "    data_max = data.max()\n",
    "    return (data - data_min) / (data_max - data_min)"
   ]
  },
  {
   "cell_type": "code",
   "execution_count": 104,
   "id": "d8739a64-a70d-4dbf-81a9-53231560d870",
   "metadata": {},
   "outputs": [],
   "source": [
    "nc_files = [file for file in os.listdir(input_dir) if file.endswith('.nc')]\n",
    "for nc_file in nc_files:\n",
    "    raw_path = os.path.join(input_dir, nc_file)\n",
    "    #ds = xr.open_zarr(raw_path)\n",
    "    ds = xr.open_dataset(raw_path)\n",
    "    \n",
    "    #raw_data = ds.Sv.isel(channel=channel).values.T  \n",
    "    #raw_data = normalize(raw_data)\n",
    "    #np.save(os.path.join(image_dir, nc_file.replace('.nc', '.npy')), raw_data)\n",
    "\n",
    "    channel_data = []\n",
    "    for channel in channels:\n",
    "        data = ds.Sv.isel(channel=channel).values.T\n",
    "        normalized_data = min_max(data)\n",
    "        channel_data.append(normalized_data)\n",
    "    # Stack the channel data along a new axis (similar to RGB channels)\n",
    "    multi_channel_data = np.stack(channel_data, axis=-1)\n",
    "    np.save(os.path.join(image_dir, nc_file.replace('.nc', '.npy')), multi_channel_data)\n",
    "    \n",
    "    # Extract the time and depth coordinates from the xarray dataset\n",
    "    time_coords = ds['ping_time'].values\n",
    "    depth_coords = ds['range_sample'].values\n",
    "    \n",
    "    mask_path = os.path.join(input_dir, nc_file.replace('.nc', '.csv'))\n",
    "    mask_df = pd.read_csv(mask_path)\n",
    "    mask_df['time'] = pd.to_datetime(mask_df['time'])\n",
    "    \n",
    "    # Create the pivot table\n",
    "    pivot_table = mask_df.assign(value=1).pivot_table(index='time', columns='depth', values='value', fill_value=0)\n",
    "    \n",
    "    # Align the binary mask with the vals array\n",
    "    time_index = pd.Index(time_coords)\n",
    "    depth_index = pd.Index(depth_coords)\n",
    "    \n",
    "    # Reindex the pivot table to match the time and depth coordinates from the xarray dataset\n",
    "    binary_mask_df = pivot_table.reindex(index=time_index, columns=depth_index, fill_value=0)\n",
    "    \n",
    "    # Convert the binary mask DataFrame to a NumPy array\n",
    "    binary_mask = binary_mask_df.to_numpy().astype(int).T\n",
    "\n",
    "    np.save(os.path.join(masks_dir, nc_file.replace('.nc', '.npy')), binary_mask)\n",
    "    "
   ]
  },
  {
   "cell_type": "code",
   "execution_count": 105,
   "id": "a8fbb94c-0f42-4695-ad46-0764c3287da9",
   "metadata": {},
   "outputs": [
    {
     "data": {
      "text/plain": [
       "0.0"
      ]
     },
     "execution_count": 105,
     "metadata": {},
     "output_type": "execute_result"
    }
   ],
   "source": [
    "binary_mask_df.sum().sum()"
   ]
  },
  {
   "cell_type": "code",
   "execution_count": 68,
   "id": "75369a52-5b6d-443d-a9c0-23066e1d3d99",
   "metadata": {},
   "outputs": [
    {
     "data": {
      "text/plain": [
       "Timestamp('2007-07-05 03:35:57.157000')"
      ]
     },
     "execution_count": 68,
     "metadata": {},
     "output_type": "execute_result"
    }
   ],
   "source": [
    "mask_df.time.min()"
   ]
  },
  {
   "cell_type": "code",
   "execution_count": 69,
   "id": "f741eb32-d763-4317-8287-f2d6bc6f4da5",
   "metadata": {},
   "outputs": [
    {
     "data": {
      "text/html": [
       "<div>\n",
       "<style scoped>\n",
       "    .dataframe tbody tr th:only-of-type {\n",
       "        vertical-align: middle;\n",
       "    }\n",
       "\n",
       "    .dataframe tbody tr th {\n",
       "        vertical-align: top;\n",
       "    }\n",
       "\n",
       "    .dataframe thead th {\n",
       "        text-align: right;\n",
       "    }\n",
       "</style>\n",
       "<table border=\"1\" class=\"dataframe\">\n",
       "  <thead>\n",
       "    <tr style=\"text-align: right;\">\n",
       "      <th></th>\n",
       "      <th>time</th>\n",
       "      <th>depth</th>\n",
       "    </tr>\n",
       "  </thead>\n",
       "  <tbody>\n",
       "  </tbody>\n",
       "</table>\n",
       "</div>"
      ],
      "text/plain": [
       "Empty DataFrame\n",
       "Columns: [time, depth]\n",
       "Index: []"
      ]
     },
     "execution_count": 69,
     "metadata": {},
     "output_type": "execute_result"
    }
   ],
   "source": [
    "mask_df[mask_df.depth.isin(depth_coords)]"
   ]
  },
  {
   "cell_type": "code",
   "execution_count": 106,
   "id": "31929a29-81ce-4cb5-b1c5-2434a7abfbd8",
   "metadata": {},
   "outputs": [
    {
     "data": {
      "text/plain": [
       "array([72.00058468, 72.19270767, 72.38483065, 72.57695364, 72.76907662,\n",
       "       72.9611996 ])"
      ]
     },
     "execution_count": 106,
     "metadata": {},
     "output_type": "execute_result"
    }
   ],
   "source": [
    "depth_coords = ds['range_sample'].values\n",
    "condition = (depth_coords > 72) & (depth_coords < 73)\n",
    "depth_coords[condition]"
   ]
  },
  {
   "cell_type": "code",
   "execution_count": 107,
   "id": "d6515295-5d48-400a-ba57-dc76f3118cb4",
   "metadata": {},
   "outputs": [
    {
     "data": {
      "text/plain": [
       "array([72.04015536, 72.04015536, 72.04493383, 72.22651546, 72.23129392,\n",
       "       72.23129392, 72.61357104, 72.61357104, 72.6183495 , 72.99106969,\n",
       "       72.99584816, 72.99584816, 72.8047096 , 72.8047096 , 72.22651546,\n",
       "       72.23129392, 72.23129392, 72.42243248, 72.42243248, 72.42721094,\n",
       "       72.8047096 , 72.8047096 , 72.23129392, 72.23129392, 72.60879258,\n",
       "       72.61357104, 72.61357104, 72.04015536, 72.04015536])"
      ]
     },
     "execution_count": 107,
     "metadata": {},
     "output_type": "execute_result"
    }
   ],
   "source": [
    "mask_df[(mask_df.depth>72) & (mask_df.depth<73)].depth.values"
   ]
  },
  {
   "cell_type": "code",
   "execution_count": 108,
   "id": "6415e699-cef5-4bc9-9597-ffc02f136810",
   "metadata": {},
   "outputs": [
    {
     "data": {
      "text/plain": [
       "array(['2007-07-05T19:22:53.657573888'], dtype='datetime64[ns]')"
      ]
     },
     "execution_count": 108,
     "metadata": {},
     "output_type": "execute_result"
    }
   ],
   "source": [
    "time_coords = ds['ping_time'].values\n",
    "condition = (time_coords > pd.to_datetime('2007-07-05 19:22:53')) & (time_coords < pd.to_datetime('2007-07-05 19:22:54'))\n",
    "time_coords[condition]"
   ]
  },
  {
   "cell_type": "code",
   "execution_count": 109,
   "id": "9777e5b2-fb6e-43ac-a764-6e3ed884d4bc",
   "metadata": {},
   "outputs": [
    {
     "data": {
      "text/plain": [
       "array(['2007-07-05T19:22:53.157000000', '2007-07-05T19:22:53.157000000',\n",
       "       '2007-07-05T19:22:53.157000000', '2007-07-05T19:22:53.157000000',\n",
       "       '2007-07-05T19:22:53.157000000', '2007-07-05T19:22:53.157000000',\n",
       "       '2007-07-05T19:22:53.157000000'], dtype='datetime64[ns]')"
      ]
     },
     "execution_count": 109,
     "metadata": {},
     "output_type": "execute_result"
    }
   ],
   "source": [
    "mask_df[(mask_df['time'] > pd.to_datetime('2007-07-05 19:22:53')) & (mask_df['time'] < pd.to_datetime('2007-07-05 19:22:54'))].time.values"
   ]
  },
  {
   "cell_type": "code",
   "execution_count": 110,
   "id": "73905517-6722-4351-be4f-de2468bae855",
   "metadata": {},
   "outputs": [
    {
     "data": {
      "text/plain": [
       "(1301, 21472, 3)"
      ]
     },
     "execution_count": 110,
     "metadata": {},
     "output_type": "execute_result"
    }
   ],
   "source": [
    "multi_channel_data.shape"
   ]
  },
  {
   "cell_type": "code",
   "execution_count": null,
   "id": "95cd3be1-0538-49a7-87b5-22113f7a2e1b",
   "metadata": {},
   "outputs": [],
   "source": []
  }
 ],
 "metadata": {
  "kernelspec": {
   "display_name": "Python 3 (ipykernel)",
   "language": "python",
   "name": "python3"
  },
  "language_info": {
   "codemirror_mode": {
    "name": "ipython",
    "version": 3
   },
   "file_extension": ".py",
   "mimetype": "text/x-python",
   "name": "python",
   "nbconvert_exporter": "python",
   "pygments_lexer": "ipython3",
   "version": "3.11.6"
  }
 },
 "nbformat": 4,
 "nbformat_minor": 5
}
